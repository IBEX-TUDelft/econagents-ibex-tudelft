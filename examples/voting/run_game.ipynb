{
 "cells": [
  {
   "cell_type": "code",
   "execution_count": null,
   "metadata": {},
   "outputs": [],
   "source": [
    "%load_ext autoreload\n",
    "%autoreload 2"
   ]
  },
  {
   "cell_type": "code",
   "execution_count": null,
   "metadata": {},
   "outputs": [],
   "source": [
    "import nest_asyncio\n",
    "\n",
    "nest_asyncio.apply()"
   ]
  },
  {
   "cell_type": "code",
   "execution_count": null,
   "metadata": {},
   "outputs": [],
   "source": [
    "import logging\n",
    "import os\n",
    "from datetime import datetime\n",
    "from pathlib import Path\n",
    "\n",
    "from dotenv import load_dotenv\n",
    "from econagents.core.game_runner import GameRunner, HybridGameRunnerConfig\n",
    "\n",
    "from examples.create_game import create_game_from_specs\n",
    "from examples.voting.manager import VAgentManager\n",
    "\n",
    "load_dotenv()\n",
    "\n",
    "# Load environment variables\n",
    "HOSTNAME = os.getenv(\"HOSTNAME\")\n",
    "PORT = os.getenv(\"PORT\")\n",
    "USERNAME = os.getenv(\"GAME_USERNAME\")\n",
    "PASSWORD = os.getenv(\"GAME_PASSWORD\")"
   ]
  },
  {
   "cell_type": "code",
   "execution_count": null,
   "metadata": {},
   "outputs": [],
   "source": [
    "# Create a new game\n",
    "new_game_data = create_game_from_specs(\n",
    "    specs_path=Path().absolute() / \"voting.json\",\n",
    "    base_url=f\"http://{HOSTNAME}\",\n",
    "    game_name=f\"voting {datetime.now().strftime('%Y-%m-%d %H:%M:%S')}\",\n",
    "    credentials={\"username\": USERNAME, \"password\": PASSWORD},\n",
    ")\n",
    "game_id = new_game_data[\"game_id\"]\n",
    "num_agents = new_game_data[\"num_agents\"]\n",
    "login_payloads = new_game_data[\"login_payloads\"]\n",
    "\n",
    "\n",
    "# Run the game\n",
    "config = HybridGameRunnerConfig(\n",
    "    # Game configuration\n",
    "    game_id=game_id,\n",
    "    # Server configuration\n",
    "    protocol=\"ws\",\n",
    "    hostname=HOSTNAME,\n",
    "    port=int(PORT),\n",
    "    path=\"wss\",\n",
    "    # Continuous-time phase configuration\n",
    "    continuous_phases=[2, 5],\n",
    "    min_action_delay=2,\n",
    "    max_action_delay=7,\n",
    "    # Logging configuration\n",
    "    log_level=logging.DEBUG,\n",
    ")\n",
    "agents = [VAgentManager(game_id=game_id, auth_mechanism_kwargs=login_payloads[i]) for i in range(num_agents)]\n",
    "runner = GameRunner(agents=agents, config=config)\n",
    "await runner.run_game()"
   ]
  }
 ],
 "metadata": {
  "kernelspec": {
   "display_name": ".venv",
   "language": "python",
   "name": "python3"
  },
  "language_info": {
   "codemirror_mode": {
    "name": "ipython",
    "version": 3
   },
   "file_extension": ".py",
   "mimetype": "text/x-python",
   "name": "python",
   "nbconvert_exporter": "python",
   "pygments_lexer": "ipython3",
   "version": "3.13.2"
  }
 },
 "nbformat": 4,
 "nbformat_minor": 2
}
